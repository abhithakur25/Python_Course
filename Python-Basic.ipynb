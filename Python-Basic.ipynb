{
 "cells": [
  {
   "cell_type": "code",
   "execution_count": null,
   "id": "24c30885",
   "metadata": {},
   "outputs": [],
   "source": [
    "#########################################################################\n",
    "# PROGRAM 1: Hello World\n",
    "# LEARNING : How to print and run python program\n",
    "#########################################################################\n",
    "\n"
   ]
  },
  {
   "cell_type": "code",
   "execution_count": null,
   "id": "43e86a47",
   "metadata": {},
   "outputs": [],
   "source": [
    "# Assingment 1.1: WAP to print your name two times\n"
   ]
  },
  {
   "cell_type": "code",
   "execution_count": null,
   "id": "e4dd2d9e",
   "metadata": {},
   "outputs": [],
   "source": [
    "#########################################################################\n",
    "# PROGRAM 2: Add numbers and Concatinate strings\n",
    "# LEARNING : How to delclare variable, add and print result\n",
    "#########################################################################"
   ]
  },
  {
   "cell_type": "code",
   "execution_count": null,
   "id": "cb2c43e8",
   "metadata": {},
   "outputs": [],
   "source": [
    "\n",
    "#------------------------------------------------------------------------\n",
    "# Example 2.1: Add two numbers\n",
    "#------------------------------------------------------------------------\n"
   ]
  },
  {
   "cell_type": "code",
   "execution_count": null,
   "id": "4a7d2892",
   "metadata": {},
   "outputs": [],
   "source": [
    "#------------------------------------------------------------------------\n",
    "# Example 2.2: Concatinate two strings\n",
    "#------------------------------------------------------------------------\n"
   ]
  },
  {
   "cell_type": "code",
   "execution_count": null,
   "id": "25ae8d2e",
   "metadata": {},
   "outputs": [],
   "source": [
    "# Assingment 2.1: WAP to add three numbers and print result\n"
   ]
  },
  {
   "cell_type": "code",
   "execution_count": null,
   "id": "370d13fc",
   "metadata": {},
   "outputs": [],
   "source": [
    "# Assingment 2.2: WAP to concatinate three strings and print result\n"
   ]
  },
  {
   "cell_type": "code",
   "execution_count": null,
   "id": "8fab406a",
   "metadata": {},
   "outputs": [],
   "source": [
    "#########################################################################\n",
    "# PROGRAM 3: Input from user\n",
    "# LEARNING : How to take input from user\n",
    "# NOTE     : input() function is used to take integer as input.\n",
    "#########################################################################"
   ]
  },
  {
   "cell_type": "code",
   "execution_count": null,
   "id": "32ba1524",
   "metadata": {},
   "outputs": [],
   "source": [
    "#------------------------------------------------------------------------\n",
    "# Example 3.1: Input two numbers from user and add them\n",
    "#------------------------------------------------------------------------\n"
   ]
  },
  {
   "cell_type": "code",
   "execution_count": null,
   "id": "a47339af",
   "metadata": {},
   "outputs": [],
   "source": [
    "#------------------------------------------------------------------------\n",
    "# Example 3.2: Input two strings from user and concatinate them\n",
    "#------------------------------------------------------------------------\n"
   ]
  },
  {
   "cell_type": "code",
   "execution_count": null,
   "id": "54e346ff",
   "metadata": {},
   "outputs": [],
   "source": [
    "# Assingment 3.1: WAP to add three numbers, inputs from user and print result\n",
    "\n"
   ]
  },
  {
   "cell_type": "code",
   "execution_count": null,
   "id": "36b4003a",
   "metadata": {},
   "outputs": [],
   "source": [
    "# Try: In above program, give number in place of string and try to get the difference between input() and raw_input() function.\n",
    "\n"
   ]
  },
  {
   "cell_type": "code",
   "execution_count": null,
   "id": "e2b4d3ed",
   "metadata": {},
   "outputs": [],
   "source": [
    "# Assingment 3.2: WAP to concatinate three strings, inputs from user and print\n",
    "\n"
   ]
  },
  {
   "cell_type": "code",
   "execution_count": null,
   "id": "fe87c7e9",
   "metadata": {},
   "outputs": [],
   "source": [
    "#########################################################################\n",
    "# PROGRAM 4: Loops\n",
    "# LEARNING : Loop, increment, decrement\n",
    "#########################################################################"
   ]
  },
  {
   "cell_type": "code",
   "execution_count": null,
   "id": "41ee9457",
   "metadata": {},
   "outputs": [],
   "source": [
    "#------------------------------------------------------------------------\n",
    "# Example 4.1: While Loop\n",
    "#------------------------------------------------------------------------\n"
   ]
  },
  {
   "cell_type": "code",
   "execution_count": null,
   "id": "59fc3b28",
   "metadata": {},
   "outputs": [],
   "source": [
    "#------------------------------------------------------------------------\n",
    "# Example 4.2: Range Function\n",
    "#------------------------------------------------------------------------\n"
   ]
  },
  {
   "cell_type": "code",
   "execution_count": null,
   "id": "3280b851",
   "metadata": {},
   "outputs": [],
   "source": [
    "#------------------------------------------------------------------------\n",
    "# Example 4.3: For loop\n",
    "#------------------------------------------------------------------------\n"
   ]
  },
  {
   "cell_type": "code",
   "execution_count": null,
   "id": "b09085c7",
   "metadata": {},
   "outputs": [],
   "source": [
    "#------------------------------------------------------------------------\n",
    "# Example 4.4: For loop\n",
    "#------------------------------------------------------------------------\n"
   ]
  },
  {
   "cell_type": "code",
   "execution_count": null,
   "id": "538058fd",
   "metadata": {},
   "outputs": [],
   "source": [
    "#------------------------------------------------------------------------\n",
    "# Example 4.5: For loop\n",
    "#------------------------------------------------------------------------\n"
   ]
  },
  {
   "cell_type": "code",
   "execution_count": null,
   "id": "6a0cec3f",
   "metadata": {},
   "outputs": [],
   "source": [
    "#------------------------------------------------------------------------\n",
    "# Example 4.6: Print table of 5\n",
    "#------------------------------------------------------------------------\n"
   ]
  },
  {
   "cell_type": "code",
   "execution_count": null,
   "id": "a320626e",
   "metadata": {},
   "outputs": [],
   "source": [
    "#------------------------------------------------------------------------\n",
    "# Example 4.7: Sum all numbers from 1 to 10\n",
    "#------------------------------------------------------------------------\n"
   ]
  },
  {
   "cell_type": "code",
   "execution_count": null,
   "id": "77661bbb",
   "metadata": {},
   "outputs": [],
   "source": [
    "#------------------------------------------------------------------------\n",
    "# Example 4.8: Sum all numbers from 1 to 10\n",
    "#------------------------------------------------------------------------\n",
    "\n"
   ]
  },
  {
   "cell_type": "code",
   "execution_count": null,
   "id": "f112f79b",
   "metadata": {},
   "outputs": [],
   "source": [
    "# Assingment 4.1: WAP to print the table of 7, 9.\n",
    "\n"
   ]
  },
  {
   "cell_type": "code",
   "execution_count": null,
   "id": "859d7f23",
   "metadata": {},
   "outputs": [],
   "source": [
    "# Assingment 4.2: WAP to print the table of n and n is given by user.\n",
    "\n"
   ]
  },
  {
   "cell_type": "code",
   "execution_count": null,
   "id": "99d05929",
   "metadata": {},
   "outputs": [],
   "source": [
    "# Assingment 4.3: WAP to add all the numbers from 1 to n and n is given by user.\n",
    "\n"
   ]
  },
  {
   "cell_type": "code",
   "execution_count": null,
   "id": "e637b980",
   "metadata": {},
   "outputs": [],
   "source": [
    "#########################################################################\n",
    "# PROGRAM 5: If-Else - Conditional Checking\n",
    "# LEARNING : if-else Condition\n",
    "#########################################################################"
   ]
  },
  {
   "cell_type": "code",
   "execution_count": null,
   "id": "dd76187c",
   "metadata": {},
   "outputs": [],
   "source": [
    "#------------------------------------------------------------------------\n",
    "# Example 5.1: Input two numbers from user and compare them\n",
    "#------------------------------------------------------------------------\n"
   ]
  },
  {
   "cell_type": "code",
   "execution_count": null,
   "id": "5029a41f",
   "metadata": {},
   "outputs": [],
   "source": [
    "#------------------------------------------------------------------------\t\n",
    "# Example 5.2: Check weather a number is odd or even:\n",
    "#------------------------------------------------------------------------\n"
   ]
  },
  {
   "cell_type": "code",
   "execution_count": null,
   "id": "0fda9ad6",
   "metadata": {},
   "outputs": [],
   "source": [
    "#------------------------------------------------------------------------\n",
    "# Example 5.3: Check weather a number is prime of not:\n",
    "#------------------------------------------------------------------------\n",
    "\n"
   ]
  },
  {
   "cell_type": "code",
   "execution_count": null,
   "id": "0c5abf00",
   "metadata": {},
   "outputs": [],
   "source": [
    "#------------------------------------------------------------------------\n",
    "# Example 5.4: Conditional Checking - Compare strings\n",
    "#------------------------------------------------------------------------\n"
   ]
  },
  {
   "cell_type": "code",
   "execution_count": null,
   "id": "98e25ef6",
   "metadata": {},
   "outputs": [],
   "source": [
    "# Assingment 5.1: WAP to find max amoung three numbers and input from user\n",
    "# Try max() function\n",
    "\n"
   ]
  },
  {
   "cell_type": "code",
   "execution_count": null,
   "id": "2a1c6ef2",
   "metadata": {},
   "outputs": [],
   "source": [
    "# Assingment 5.2: WAP to add all even numbers from 1 to n and n is given by user.\n",
    "\n"
   ]
  },
  {
   "cell_type": "code",
   "execution_count": null,
   "id": "5a57a09d",
   "metadata": {},
   "outputs": [],
   "source": [
    "# Assingment 5.3: WAP to add all prime numbers from 1 to n and n is given by user.\n",
    "\n",
    "\n"
   ]
  },
  {
   "cell_type": "code",
   "execution_count": null,
   "id": "b5c887d5",
   "metadata": {},
   "outputs": [],
   "source": [
    "#########################################################################\n",
    "# PROGRAM 6: Functions\n",
    "# LEARNING : How to declare and call\n",
    "#########################################################################"
   ]
  },
  {
   "cell_type": "code",
   "execution_count": null,
   "id": "65e0d2c6",
   "metadata": {},
   "outputs": [],
   "source": [
    "#------------------------------------------------------------------------\n",
    "# Example 6.1: Add two numbers\n",
    "#------------------------------------------------------------------------\n"
   ]
  },
  {
   "cell_type": "code",
   "execution_count": null,
   "id": "733e4a04",
   "metadata": {},
   "outputs": [],
   "source": [
    "#------------------------------------------------------------------------\n",
    "# Example 6.2: Prime number\n",
    "#------------------------------------------------------------------------\n"
   ]
  },
  {
   "cell_type": "code",
   "execution_count": null,
   "id": "2d54cf08",
   "metadata": {},
   "outputs": [],
   "source": [
    "#------------------------------------------------------------------------\n",
    "# Example 6.3: Add 1 to n\n",
    "#------------------------------------------------------------------------\n"
   ]
  },
  {
   "cell_type": "code",
   "execution_count": null,
   "id": "a58cfc8f",
   "metadata": {},
   "outputs": [],
   "source": [
    "# Assingment 6.1: WAP using function that add all odd numbers from 1 to n; n given by user.\n",
    "\n"
   ]
  },
  {
   "cell_type": "code",
   "execution_count": null,
   "id": "1dd2cbd5",
   "metadata": {},
   "outputs": [],
   "source": [
    "# Assingment 6.2: WAP using function that add all even numbers from 1 to n; n given by user.\n",
    "\n"
   ]
  },
  {
   "cell_type": "code",
   "execution_count": null,
   "id": "038ef172",
   "metadata": {},
   "outputs": [],
   "source": [
    "# Assingment 6.3: WAP using function that add all prime numbers from 1 to n; n given by user.\n",
    "\n",
    "\n"
   ]
  },
  {
   "cell_type": "code",
   "execution_count": null,
   "id": "b3f7df0d",
   "metadata": {},
   "outputs": [],
   "source": [
    "#########################################################################\n",
    "# PROGRAM 7: Math library\n",
    "# LEARNING : Use math library\n",
    "#########################################################################\n"
   ]
  },
  {
   "cell_type": "code",
   "execution_count": null,
   "id": "e4189ce2",
   "metadata": {},
   "outputs": [],
   "source": []
  },
  {
   "cell_type": "code",
   "execution_count": null,
   "id": "42549f2b",
   "metadata": {},
   "outputs": [],
   "source": [
    "#########################################################################\n",
    "# PROGRAM 8: Strings\n",
    "# LEARNING : How to handle string\n",
    "#########################################################################"
   ]
  },
  {
   "cell_type": "code",
   "execution_count": null,
   "id": "9c8da4c9",
   "metadata": {},
   "outputs": [],
   "source": [
    "#------------------------------------------------------------------------\n",
    "# Example 8.1: Indexing in string\n",
    "#------------------------------------------------------------------------\n"
   ]
  },
  {
   "cell_type": "code",
   "execution_count": null,
   "id": "4ebd43bb",
   "metadata": {},
   "outputs": [],
   "source": [
    "#------------------------------------------------------------------------\n",
    "# Example 8.2: String length, upper, lower\n",
    "#------------------------------------------------------------------------\n"
   ]
  },
  {
   "cell_type": "code",
   "execution_count": null,
   "id": "4c0b2045",
   "metadata": {},
   "outputs": [],
   "source": [
    "#------------------------------------------------------------------------\n",
    "# Example 8.3: String formatting\n",
    "#------------------------------------------------------------------------\n"
   ]
  },
  {
   "cell_type": "code",
   "execution_count": null,
   "id": "262d5d3c",
   "metadata": {},
   "outputs": [],
   "source": [
    "#------------------------------------------------------------------------\n",
    "# Example 8.4: String in Triple Quotes\n",
    "#------------------------------------------------------------------------\n"
   ]
  },
  {
   "cell_type": "code",
   "execution_count": null,
   "id": "ca67d6a7",
   "metadata": {},
   "outputs": [],
   "source": [
    "#------------------------------------------------------------------------\n",
    "# Example 8.5: String strip\n",
    "#------------------------------------------------------------------------\n",
    "\n"
   ]
  },
  {
   "cell_type": "code",
   "execution_count": null,
   "id": "ea79b1d0",
   "metadata": {},
   "outputs": [],
   "source": [
    "#------------------------------------------------------------------------\n",
    "# Example 8.6: String split\n",
    "#------------------------------------------------------------------------\n"
   ]
  },
  {
   "cell_type": "code",
   "execution_count": null,
   "id": "7e8a945c",
   "metadata": {},
   "outputs": [],
   "source": [
    "#------------------------------------------------------------------------\n",
    "# Example 8.7: Count in string \n",
    "#------------------------------------------------------------------------\n"
   ]
  },
  {
   "cell_type": "code",
   "execution_count": null,
   "id": "b618c41f",
   "metadata": {},
   "outputs": [],
   "source": [
    "#------------------------------------------------------------------------\n",
    "# Example 8.8: Reverse a String\n",
    "#------------------------------------------------------------------------\n"
   ]
  },
  {
   "cell_type": "code",
   "execution_count": null,
   "id": "a7ebbaff",
   "metadata": {},
   "outputs": [],
   "source": [
    "#------------------------------------------------------------------------\n",
    "# Example 8.9: Palindrome \n",
    "#------------------------------------------------------------------------\n"
   ]
  },
  {
   "cell_type": "code",
   "execution_count": null,
   "id": "48f2cd18",
   "metadata": {},
   "outputs": [],
   "source": [
    "#########################################################################\n",
    "# PROGRAM 9: Exceptional Handaling\n",
    "# LEARNING : How to handle Exceptionals\n",
    "#########################################################################"
   ]
  },
  {
   "cell_type": "code",
   "execution_count": null,
   "id": "0bb15591",
   "metadata": {},
   "outputs": [],
   "source": [
    "#------------------------------------------------------------------------\n",
    "# Example 9.1: Error Generation\n",
    "#------------------------------------------------------------------------\n"
   ]
  },
  {
   "cell_type": "code",
   "execution_count": null,
   "id": "769ae1cd",
   "metadata": {},
   "outputs": [],
   "source": [
    "#------------------------------------------------------------------------\n",
    "# Example 9.2: Exception handaling for division by zero\n",
    "#------------------------------------------------------------------------\n"
   ]
  },
  {
   "cell_type": "code",
   "execution_count": null,
   "id": "5122e310",
   "metadata": {},
   "outputs": [],
   "source": [
    "#------------------------------------------------------------------------\n",
    "# Example 9.3: Exception handaling for array out of index\n",
    "#------------------------------------------------------------------------\n"
   ]
  },
  {
   "cell_type": "code",
   "execution_count": null,
   "id": "b7a492e0",
   "metadata": {},
   "outputs": [],
   "source": [
    "#------------------------------------------------------------------------\n",
    "# Example 9.4: Exception handaling for file not found\n",
    "#------------------------------------------------------------------------\n"
   ]
  },
  {
   "cell_type": "code",
   "execution_count": null,
   "id": "dd27d506",
   "metadata": {},
   "outputs": [],
   "source": [
    "#------------------------------------------------------------------------\n",
    "# Example 9.5: Exception handaling for file not found\n",
    "#------------------------------------------------------------------------\n"
   ]
  },
  {
   "cell_type": "code",
   "execution_count": null,
   "id": "09b67ebb",
   "metadata": {},
   "outputs": [],
   "source": [
    "#########################################################################\n",
    "# PROGRAM 10: Random Numbers/String\n",
    "# LEARNING : Generate Random Numbers/String\n",
    "#########################################################################\n"
   ]
  },
  {
   "cell_type": "code",
   "execution_count": null,
   "id": "3ea16e5e",
   "metadata": {},
   "outputs": [],
   "source": [
    "#------------------------------------------------------------------------\n",
    "# Example 10.1: Generate random number between 0 and 1\n",
    "#------------------------------------------------------------------------\n"
   ]
  },
  {
   "cell_type": "code",
   "execution_count": null,
   "id": "071f02f5",
   "metadata": {},
   "outputs": [],
   "source": [
    "#------------------------------------------------------------------------\n",
    "# Example 10.2: Generate random integer number\n",
    "#------------------------------------------------------------------------\n"
   ]
  },
  {
   "cell_type": "code",
   "execution_count": null,
   "id": "f8c8f6b9",
   "metadata": {},
   "outputs": [],
   "source": [
    "#------------------------------------------------------------------------\n",
    "# Example 10.3: Generate random real number\n",
    "#------------------------------------------------------------------------\n"
   ]
  },
  {
   "cell_type": "code",
   "execution_count": null,
   "id": "714e7ea7",
   "metadata": {},
   "outputs": [],
   "source": [
    "#------------------------------------------------------------------------\n",
    "# Example 10.4: Generate sample from a list of elements\n",
    "#------------------------------------------------------------------------\n"
   ]
  },
  {
   "cell_type": "code",
   "execution_count": null,
   "id": "6a2adc09",
   "metadata": {},
   "outputs": [],
   "source": [
    "#------------------------------------------------------------------------\n",
    "# Example 10.5: Generate random string\n",
    "#------------------------------------------------------------------------\n"
   ]
  },
  {
   "cell_type": "code",
   "execution_count": null,
   "id": "6fdf6013",
   "metadata": {},
   "outputs": [],
   "source": [
    "#------------------------------------------------------------------------\n",
    "# Example 10.6: Generate random digits\n",
    "#------------------------------------------------------------------------\n"
   ]
  },
  {
   "cell_type": "code",
   "execution_count": null,
   "id": "0b76d656",
   "metadata": {},
   "outputs": [],
   "source": [
    "#------------------------------------------------------------------------\n",
    "# Example 10.7: Generate random string + digits\n",
    "#------------------------------------------------------------------------\n"
   ]
  },
  {
   "cell_type": "code",
   "execution_count": null,
   "id": "80cd0537",
   "metadata": {},
   "outputs": [],
   "source": [
    "#########################################################################\n",
    "# PROGRAM 11: Demo of Data Structure - List\n",
    "# LEARNING : How to use list, add, delete, search in list\n",
    "#            List indexing starts from 0 to n-1\n",
    "# NOTE     : Read more about list and try yourself\n",
    "#########################################################################"
   ]
  },
  {
   "cell_type": "code",
   "execution_count": null,
   "id": "90f2e652",
   "metadata": {},
   "outputs": [],
   "source": [
    "#------------------------------------------------------------------------\n",
    "# Example 11.1: List Decleration\n",
    "#------------------------------------------------------------------------\n"
   ]
  },
  {
   "cell_type": "code",
   "execution_count": null,
   "id": "1b0826bc",
   "metadata": {},
   "outputs": [],
   "source": [
    "#------------------------------------------------------------------------\n",
    "# Example 11.2: List Iteration\n",
    "#------------------------------------------------------------------------\n"
   ]
  },
  {
   "cell_type": "code",
   "execution_count": null,
   "id": "413c7982",
   "metadata": {},
   "outputs": [],
   "source": [
    "#------------------------------------------------------------------------\n",
    "# Example 11.3: List Iteration using for loop\n",
    "#------------------------------------------------------------------------\n"
   ]
  },
  {
   "cell_type": "code",
   "execution_count": null,
   "id": "51d56539",
   "metadata": {},
   "outputs": [],
   "source": [
    "#------------------------------------------------------------------------\n",
    "# Example 11.4: List Iteration using for loop\n",
    "#------------------------------------------------------------------------\n"
   ]
  },
  {
   "cell_type": "code",
   "execution_count": null,
   "id": "a3514d16",
   "metadata": {},
   "outputs": [],
   "source": [
    "#------------------------------------------------------------------------\n",
    "# Example 11.5 : Adding and deleting from list\n",
    "#------------------------------------------------------------------------\n",
    "\n"
   ]
  },
  {
   "cell_type": "code",
   "execution_count": null,
   "id": "28bf8ab4",
   "metadata": {},
   "outputs": [],
   "source": [
    "#------------------------------------------------------------------------\n",
    "# Example 11.6 : Sum/Average of List\n",
    "#------------------------------------------------------------------------\n"
   ]
  },
  {
   "cell_type": "code",
   "execution_count": null,
   "id": "af3955db",
   "metadata": {},
   "outputs": [],
   "source": [
    "#------------------------------------------------------------------------\n",
    "# Example 11.7 : Min/Max/Sort the list\n",
    "#------------------------------------------------------------------------\n"
   ]
  },
  {
   "cell_type": "code",
   "execution_count": null,
   "id": "c01c3b68",
   "metadata": {},
   "outputs": [],
   "source": [
    "#------------------------------------------------------------------------\n",
    "# Example 11.8 : Merge lists & select elements\n",
    "#------------------------------------------------------------------------\n"
   ]
  },
  {
   "cell_type": "code",
   "execution_count": null,
   "id": "579f3b26",
   "metadata": {},
   "outputs": [],
   "source": [
    "#------------------------------------------------------------------------\n",
    "# Example 11.9 : Multiply all elements of list by a constant.\n",
    "#------------------------------------------------------------------------\n",
    "\n"
   ]
  },
  {
   "cell_type": "code",
   "execution_count": null,
   "id": "87e73c73",
   "metadata": {},
   "outputs": [],
   "source": [
    "#########################################################################\n",
    "# PROGRAM 12: Demo of Data Structure - Dictionary\n",
    "# LEARNING  : How to use Dictionary, add, delete, search in Dictionary\n",
    "# NOTE      : Read more about Dictionary and try yourself\n",
    "#########################################################################\n"
   ]
  },
  {
   "cell_type": "code",
   "execution_count": null,
   "id": "29bc2863",
   "metadata": {},
   "outputs": [],
   "source": [
    "#------------------------------------------------------------------------\n",
    "# Example 12.1: Declare Dictionary\n",
    "#------------------------------------------------------------------------\n"
   ]
  },
  {
   "cell_type": "code",
   "execution_count": null,
   "id": "7566b8e8",
   "metadata": {},
   "outputs": [],
   "source": [
    "#------------------------------------------------------------------------\n",
    "# Example 12.2: Triverse dictionary\n",
    "#------------------------------------------------------------------------\n",
    "\n"
   ]
  },
  {
   "cell_type": "code",
   "execution_count": null,
   "id": "b8e30866",
   "metadata": {},
   "outputs": [],
   "source": [
    "#------------------------------------------------------------------------\n",
    "# Example 12.3: Getting Keys and Values\n",
    "#------------------------------------------------------------------------\n"
   ]
  },
  {
   "cell_type": "code",
   "execution_count": null,
   "id": "1be6bdce",
   "metadata": {},
   "outputs": [],
   "source": [
    "#------------------------------------------------------------------------\n",
    "# Example 12.4 : Updating, Adding and Deleting from Dictionary\n",
    "#------------------------------------------------------------------------\n",
    "\n"
   ]
  },
  {
   "cell_type": "code",
   "execution_count": null,
   "id": "00ef76a5",
   "metadata": {},
   "outputs": [],
   "source": [
    "#------------------------------------------------------------------------\n",
    "# Example 12.5 : Checking for Key in Dictionary\n",
    "#------------------------------------------------------------------------\n"
   ]
  },
  {
   "cell_type": "code",
   "execution_count": null,
   "id": "eb04372e",
   "metadata": {},
   "outputs": [],
   "source": [
    "#------------------------------------------------------------------------\n",
    "# Example 12.6\n",
    "#------------------------------------------------------------------------\n"
   ]
  },
  {
   "cell_type": "code",
   "execution_count": null,
   "id": "e78b9986",
   "metadata": {},
   "outputs": [],
   "source": [
    "#------------------------------------------------------------------------\n",
    "# Example 12.7\n",
    "#------------------------------------------------------------------------\n"
   ]
  },
  {
   "cell_type": "code",
   "execution_count": null,
   "id": "3ca8f7c6",
   "metadata": {},
   "outputs": [],
   "source": [
    "#########################################################################\n",
    "# PROGRAM 13: Demo of Data Structure - Touple\n",
    "# LEARNING  : How to use Touple, add, delete, search in Touple\n",
    "# NOTE      : Read more about Touple and try yourself\n",
    "#########################################################################\n",
    "\n",
    "\n",
    "\n"
   ]
  },
  {
   "cell_type": "code",
   "execution_count": null,
   "id": "ea345aed",
   "metadata": {},
   "outputs": [],
   "source": [
    "#########################################################################\n",
    "# PROGRAM 14: Demo of Data Structure - Set\n",
    "# LEARNING  : How to use Set, add, delete, search in Set\n",
    "#########################################################################\n",
    "\n",
    "\n",
    "\n"
   ]
  },
  {
   "cell_type": "code",
   "execution_count": null,
   "id": "1ccb1eab",
   "metadata": {},
   "outputs": [],
   "source": [
    "#------------------------------------------------------------------------\n",
    "# Example 14.1\n",
    "#------------------------------------------------------------------------\n"
   ]
  },
  {
   "cell_type": "code",
   "execution_count": null,
   "id": "f019e495",
   "metadata": {},
   "outputs": [],
   "source": [
    "#------------------------------------------------------------------------\n",
    "# Example 14.2: Opertions on Sets\n",
    "#------------------------------------------------------------------------\n"
   ]
  },
  {
   "cell_type": "code",
   "execution_count": null,
   "id": "bef25014",
   "metadata": {},
   "outputs": [],
   "source": [
    "#------------------------------------------------------------------------\n",
    "# Example 14.3: Add, delete, pop element from set\n",
    "#------------------------------------------------------------------------\n"
   ]
  },
  {
   "cell_type": "code",
   "execution_count": null,
   "id": "21728700",
   "metadata": {},
   "outputs": [],
   "source": [
    "#########################################################################\n",
    "# PROGRAM 15: Command Line Argument\n",
    "# LEARNING  : How to Take input from command line and process it\n",
    "# NOTE      : To Run the PROGRAM - $ python Program.py 10 20\n",
    "#########################################################################\n"
   ]
  },
  {
   "cell_type": "code",
   "execution_count": null,
   "id": "84416605",
   "metadata": {},
   "outputs": [],
   "source": [
    "#------------------------------------------------------------------------\n",
    "# Example 15.1: Add two numbers given at cmd line\n",
    "# NOTE      : To Run the PROGRAM - $ python Program.py 10 20\n",
    "# Go to Anaconda Navigator and open terminal\n",
    "# Use the path lik (base) C:\\Users\\Abhishek\\Documents\\Python>python Program.py 10 20\n",
    "# This path contain the Program.py file \n",
    "# Use the same code in Program.py file\n",
    "# Now run the file in terminal\n",
    "#------------------------------------------------------------------------\n"
   ]
  },
  {
   "cell_type": "code",
   "execution_count": null,
   "id": "68636900",
   "metadata": {},
   "outputs": [],
   "source": [
    "#------------------------------------------------------------------------\n",
    "# Example 15.2: Concatinate two strings given at cmd line\n",
    "# NOTE      : To Run the PROGRAM - $ python Program1.py Sample String\n",
    "#------------------------------------------------------------------------\n",
    "# Go to Anaconda Navigator and open terminal\n",
    "# Use the path lik (base) C:\\Users\\Abhishek\\Documents\\Python>python Program1.py 10 20\n",
    "# This path contain the Program1.py file \n",
    "# Use the same code in Program1.py file\n",
    "# Now run the file in terminal\n"
   ]
  },
  {
   "cell_type": "code",
   "execution_count": null,
   "id": "60d0756d",
   "metadata": {},
   "outputs": [],
   "source": [
    "#------------------------------------------------------------------------\n",
    "# Example 15.3: Add all the numbers given at cmd line\n",
    "# NOTE      : To Run the PROGRAM - $ python Program2.py 10 20\n",
    "#------------------------------------------------------------------------\n",
    "# Go to Anaconda Navigator and open terminal\n",
    "# Use the path lik (base) C:\\Users\\Abhishek\\Documents\\Python>python Program2.py 10 20\n",
    "# This path contain the Program2.py file \n",
    "# Use the same code in Program2.py file\n",
    "# Now run the file in terminal\n"
   ]
  },
  {
   "cell_type": "code",
   "execution_count": null,
   "id": "136b8f7d",
   "metadata": {},
   "outputs": [],
   "source": [
    "#------------------------------------------------------------------------\n",
    "# Example 15.4: Concatinate all strings given at cmd line\n",
    "# NOTE      : To Run the PROGRAM - $ python Program3.py 10 20\n",
    "#------------------------------------------------------------------------\n",
    "# Go to Anaconda Navigator and open terminal\n",
    "# Use the path lik (base) C:\\Users\\Abhishek\\Documents\\Python>python Program3.py 10 20\n",
    "# This path contain the Program3.py file \n",
    "# Use the same code in Program3.py file\n",
    "# Now run the file in terminal\n"
   ]
  },
  {
   "cell_type": "code",
   "execution_count": null,
   "id": "279d6292",
   "metadata": {},
   "outputs": [],
   "source": [
    "#########################################################################\n",
    "# PROGRAM 16: File Handling \n",
    "# LEARNING  : How to open the file, how to read line by line\n",
    "#########################################################################\n"
   ]
  },
  {
   "cell_type": "code",
   "execution_count": null,
   "id": "a30111ec",
   "metadata": {},
   "outputs": [],
   "source": [
    "\n",
    "#------------------------------------------------------------------------\n",
    "# Example 16.1: Print the content of file line by line\n",
    "# NOTE      : First create a file abc.txt and write some lines\n",
    "#------------------------------------------------------------------------\n"
   ]
  },
  {
   "cell_type": "code",
   "execution_count": null,
   "id": "81126305",
   "metadata": {},
   "outputs": [],
   "source": [
    "#------------------------------------------------------------------------\n",
    "# Example 16.2: Writing 1 to 10 in file\n",
    "#------------------------------------------------------------------------\n"
   ]
  },
  {
   "cell_type": "code",
   "execution_count": null,
   "id": "dcd06f7b",
   "metadata": {},
   "outputs": [],
   "source": [
    "#------------------------------------------------------------------------\n",
    "# Example 16.3: Read from one file and write to other file\n",
    "#------------------------------------------------------------------------\n"
   ]
  },
  {
   "cell_type": "code",
   "execution_count": null,
   "id": "367b1158",
   "metadata": {},
   "outputs": [],
   "source": []
  }
 ],
 "metadata": {
  "kernelspec": {
   "display_name": "Python 3 (ipykernel)",
   "language": "python",
   "name": "python3"
  },
  "language_info": {
   "codemirror_mode": {
    "name": "ipython",
    "version": 3
   },
   "file_extension": ".py",
   "mimetype": "text/x-python",
   "name": "python",
   "nbconvert_exporter": "python",
   "pygments_lexer": "ipython3",
   "version": "3.9.7"
  }
 },
 "nbformat": 4,
 "nbformat_minor": 5
}
