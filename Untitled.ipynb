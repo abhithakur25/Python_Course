{
 "cells": [
  {
   "cell_type": "markdown",
   "id": "af9a2e6f",
   "metadata": {},
   "source": [
    "You are given a list of string elements and asked to return a list which contains each element of the string in title case or in other words first character of the string would be in upper case and remaining all characters in lower case\n",
    "\n",
    "Sample Input:\n",
    "\n",
    "['VARMA', 'raj', 'Gupta', 'SaNdeeP']\n",
    "\n",
    "Sample Output\n",
    "\n",
    "['Varma', 'Raj', 'Gupta', 'Sandeep']"
   ]
  },
  {
   "cell_type": "code",
   "execution_count": 24,
   "id": "4fcd2874",
   "metadata": {},
   "outputs": [],
   "source": [
    "L=['VARMA', 'raj', 'Gupta', 'SaNdeeP']\n",
    "new=\" \".join([word.capitalize() for word in L])"
   ]
  },
  {
   "cell_type": "code",
   "execution_count": 25,
   "id": "5ff68e9a",
   "metadata": {},
   "outputs": [
    {
     "data": {
      "text/plain": [
       "'Varma Raj Gupta Sandeep'"
      ]
     },
     "execution_count": 25,
     "metadata": {},
     "output_type": "execute_result"
    }
   ],
   "source": [
    "new"
   ]
  },
  {
   "cell_type": "code",
   "execution_count": 26,
   "id": "cade03ff",
   "metadata": {},
   "outputs": [
    {
     "data": {
      "text/plain": [
       "['Varma', 'Raj', 'Gupta', 'Sandeep']"
      ]
     },
     "execution_count": 26,
     "metadata": {},
     "output_type": "execute_result"
    }
   ],
   "source": [
    " new.split()"
   ]
  },
  {
   "cell_type": "code",
   "execution_count": null,
   "id": "22545970",
   "metadata": {},
   "outputs": [],
   "source": []
  }
 ],
 "metadata": {
  "kernelspec": {
   "display_name": "Python 3 (ipykernel)",
   "language": "python",
   "name": "python3"
  },
  "language_info": {
   "codemirror_mode": {
    "name": "ipython",
    "version": 3
   },
   "file_extension": ".py",
   "mimetype": "text/x-python",
   "name": "python",
   "nbconvert_exporter": "python",
   "pygments_lexer": "ipython3",
   "version": "3.9.7"
  }
 },
 "nbformat": 4,
 "nbformat_minor": 5
}
