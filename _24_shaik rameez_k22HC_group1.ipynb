{
 "cells": [
  {
   "cell_type": "markdown",
   "metadata": {},
   "source": [
    "Problem Statement: 1\n",
    "You work in XYZ Corporation as a Data Analyst. Your company has told you to work with the IfElse Conditions.\n",
    "Tasks to be performed:\n",
    "1. Input the values of a and b as 10 and 20 respectively. Now check if a is greater or b is greater\n",
    "using if condition. Think about all the edge cases, and print the statements accordingly."
   ]
  },
  {
   "cell_type": "code",
   "execution_count": 43,
   "metadata": {},
   "outputs": [
    {
     "name": "stdout",
     "output_type": "stream",
     "text": [
      "20 > 10\n"
     ]
    }
   ],
   "source": [
    " a,b=10,20\n",
    "#Condition\n",
    "if a>b:\n",
    "    print(a,\">\",b)\n",
    "elif b>a:\n",
    "    print(b,\">\",a)\n",
    "elif a==b:\n",
    "    print(a,\"=\",b)\n",
    "else:\n",
    "    print(\"INVALID INPUT\")"
   ]
  },
  {
   "cell_type": "markdown",
   "metadata": {},
   "source": [
    "Problem Statement: 2 You work in XYZ Corporation as a Data Analyst. Your company has told you to work with the IfElse Conditions. Tasks to be performed:\n",
    "\n",
    "Take three user inputs and print the greatest number from those inputs using if-else condition. Edge cases if any, should also be handled."
   ]
  },
  {
   "cell_type": "code",
   "execution_count": 44,
   "metadata": {},
   "outputs": [
    {
     "name": "stdout",
     "output_type": "stream",
     "text": [
      "Enter First Number : 344\n",
      "Enter Second Number : 43\n",
      "Enter Third Number : 256\n",
      "Greatest of all given numbers is :  344.0\n"
     ]
    }
   ],
   "source": [
    " try:\n",
    "    num1 = float(input(\"Enter First Number : \"))\n",
    "    num2 = float(input(\"Enter Second Number : \"))\n",
    "    num3 = float(input(\"Enter Third Number : \"))\n",
    "    if (num1 > num2) and (num1 > num3):\n",
    "       greatest = num1\n",
    "    elif (num2 > num1) and (num2 > num3):\n",
    "       greatest = num2\n",
    "    else:\n",
    "       greatest = num3\n",
    "    print(\"Greatest of all given numbers is : \",greatest)\n",
    "except:\n",
    "    print(\"Please Enter Numbers Only!\")"
   ]
  },
  {
   "cell_type": "markdown",
   "metadata": {},
   "source": [
    "Problem Statement: 3 You work in XYZ Corporation as a Data Analyst. Your company has told you to work with the IfElse Conditions. Tasks to be performed:\n",
    "\n",
    "Print the numbers from 1 to 10 using while loop."
   ]
  },
  {
   "cell_type": "code",
   "execution_count": 45,
   "metadata": {},
   "outputs": [
    {
     "name": "stdout",
     "output_type": "stream",
     "text": [
      "1\n",
      "2\n",
      "3\n",
      "4\n",
      "5\n",
      "6\n",
      "7\n",
      "8\n",
      "9\n",
      "10\n"
     ]
    }
   ],
   "source": [
    "i=1\n",
    "while i <= 10:\n",
    "    print(i)\n",
    "    i+=1"
   ]
  },
  {
   "cell_type": "markdown",
   "metadata": {},
   "source": [
    "Problem Statement: 4 You work in XYZ Corporation as a Data Analyst. Your company has told you to work with the IfElse Conditions. Tasks to be performed: Create a list that is having 10,23,4,26,4,75,24,54 values and with the help of while loop, fetch the even numbers and print the numbers."
   ]
  },
  {
   "cell_type": "code",
   "execution_count": 46,
   "metadata": {},
   "outputs": [
    {
     "name": "stdout",
     "output_type": "stream",
     "text": [
      "10\n",
      "4\n",
      "26\n",
      "4\n",
      "24\n",
      "54\n"
     ]
    }
   ],
   "source": [
    "l = [10,23,4,26,4,75,24,54]   #list declaration\n",
    "i = 0\n",
    "while i<len(l):\n",
    "    if l[i]%2==0:    #condition for even number\n",
    "        print(l[i])\n",
    "    i+=1"
   ]
  },
  {
   "cell_type": "markdown",
   "metadata": {},
   "source": [
    "Problem Statement: 5\n",
    "Consider yourself to be Sam who is a data scientist. He has been invited as a guest lecturer at a college\n",
    "to take an introductory session on Python.\n",
    "Tasks to be performed:\n",
    "1. Create a list containing squares of numbers from 1 to 10 (HINT: use List Comprehension).\n",
    "2. Write a Function to check if year number is a leap year.\n",
    "3. Write a Function to take an array and return another array that contains the members of first\n",
    "array that are even.\n",
    "4. Write a Function that takes 2 arrays and prints the members of first array that are present of\n",
    "second array. (HINT: use Membership Comprehension)\n",
    "\n"
   ]
  },
  {
   "cell_type": "code",
   "execution_count": 47,
   "metadata": {},
   "outputs": [
    {
     "name": "stdout",
     "output_type": "stream",
     "text": [
      "[1, 4, 9, 16, 25, 36, 49, 64, 81, 100]\n"
     ]
    }
   ],
   "source": [
    "#To create a list containing squares of numbers from 1 to 10 USING LIST COMPREHENSION\n",
    "l=[x**2 for x in range(1,11)]\n",
    "print(l)"
   ]
  },
  {
   "cell_type": "code",
   "execution_count": 48,
   "metadata": {},
   "outputs": [
    {
     "name": "stdout",
     "output_type": "stream",
     "text": [
      "Given Year is a leap Year\n"
     ]
    }
   ],
   "source": [
    "\n",
    "#Function to check if year number is a leap year\n",
    "def CheckLeap(Year):\n",
    "  if((Year % 400 == 0) or (Year % 100 != 0) and (Year % 4 == 0)):  #condition for leap year \n",
    "    print(\"Given Year is a leap Year\");  \n",
    "  else:  \n",
    "    print (\"Given Year is not a leap Year\")  \n",
    "\n",
    "#calling function\n",
    "CheckLeap(2000)  \n"
   ]
  },
  {
   "cell_type": "code",
   "execution_count": 49,
   "metadata": {},
   "outputs": [
    {
     "name": "stdout",
     "output_type": "stream",
     "text": [
      "[2, 4, 4, 6, 8]\n"
     ]
    }
   ],
   "source": [
    "# Function to take an array and return another array that contains the members of first array that are even\n",
    "\n",
    "def filter_even(l):\n",
    "    even_list = []\n",
    "    for i in l:\n",
    "        if i%2==0:\n",
    "            even_list.append(i)\n",
    "    return even_list\n",
    "\n",
    "#calling function\n",
    "L = filter_even([2,4,5,4,5,7,6,8,5,9])\n",
    "print(L)"
   ]
  },
  {
   "cell_type": "code",
   "execution_count": 50,
   "metadata": {},
   "outputs": [
    {
     "name": "stdout",
     "output_type": "stream",
     "text": [
      "Member of first array in second array are : \n",
      "3, 4, 5, "
     ]
    }
   ],
   "source": [
    "#Write a Function that takes 2 arrays and prints the members of first array that are present of second array.\n",
    "\n",
    "def filter_list(l1,l2):\n",
    "    print(\"Member of first array in second array are : \")\n",
    "    for i in l1:\n",
    "        if (i in l2):\n",
    "            print(i,end=\", \")\n",
    "\n",
    "filter_list({1,4,2,3,4,5,3,4,5},{5,4,7,6,7,5,4,3,4,53})"
   ]
  },
  {
   "cell_type": "code",
   "execution_count": null,
   "metadata": {},
   "outputs": [],
   "source": [
    "Problem Statement: 6\n",
    "Consider yourself to be Sam who is a data scientist. He has been invited as a guest lecturer at a college\n",
    "to take an introductory session on Python.\n",
    "Tasks to be performed:\n",
    "1. Create 1st tuple with values -> (10,20,30), 2nd tuple with values -> (40,50,60).\n",
    "a. Concatenate the two tuples and store it in “t_combine”\n",
    "b. Repeat the elements of “t_combine” 3 times\n",
    "c. Access the 3rd element from “t_combine”\n",
    "d. Access the first three elements from “t_combine”\n",
    "e. Access the last three elements from “t_combine”\n",
    "2. Create a list ‘my_list’ with these elements:\n",
    "a. First element is a tuple with values 1,2,3\n",
    "b. Second element is a tuple with values “a”,”b”,”c”\n",
    "c. Third element is a tuple with values True,False\n",
    "3. Append a new tuple – (1,’a’,True) to ‘my_list’\n",
    "a. Append a new list – *“sparta”,123+ to my_list\n",
    "4. Create a dictionary ‘fruit’ where:\n",
    "a. The first key is ‘Fruit’ and the values are (“Apple”,”Banana”,”Mango”,”Guava”)\n",
    "b. The second key is ‘Cost’ and the values are (85,54,120,70)\n",
    "c. Extract all the keys from ‘fruit’\n",
    "d. Extract all the values from ‘fruit’\n",
    "5. Crete a set named ‘my_set’ with values (1,1,”a”,”a”,True,True) and print the result"
   ]
  },
  {
   "cell_type": "code",
   "execution_count": 29,
   "metadata": {},
   "outputs": [
    {
     "name": "stdout",
     "output_type": "stream",
     "text": [
      "1st tupple --> (10, 20, 30)\n",
      "2nd tupple --> (40, 50, 60)\n"
     ]
    }
   ],
   "source": [
    "#1. Create 1st tuple with values -> (10,20,30), 2nd tuple with values -> (40,50,60).\n",
    "t1=(10,20,30)\n",
    "t2=(40,50,60)\n",
    "print(\"1st tupple -->\",t1)\n",
    "print(\"2nd tupple -->\",t2)\n",
    "\n",
    "\n"
   ]
  },
  {
   "cell_type": "markdown",
   "metadata": {},
   "source": [
    "\n",
    "t1=(10,20,30)\n",
    "t2=(40,50,60)\n",
    "t_combine=t1+t2\n",
    "print(t_combine)\n",
    "\n"
   ]
  },
  {
   "cell_type": "code",
   "execution_count": 21,
   "metadata": {},
   "outputs": [
    {
     "name": "stdout",
     "output_type": "stream",
     "text": [
      "(10, 20, 30, 10, 20, 30, 10, 20, 30, 40, 50, 60, 40, 50, 60, 40, 50, 60)\n"
     ]
    }
   ],
   "source": [
    "#b. Repeat the elements of “t_combine” 3 times\n",
    "t1=(10,20,30)\n",
    "t2=(40,50,60)\n",
    "t_combine=3*t1+3*t2\n",
    "print(t_combine)\n",
    "\n"
   ]
  },
  {
   "cell_type": "code",
   "execution_count": 31,
   "metadata": {},
   "outputs": [
    {
     "name": "stdout",
     "output_type": "stream",
     "text": [
      "40\n"
     ]
    }
   ],
   "source": [
    "#c. Access the 3rd element from “t_combine”\n",
    "t1=(10,20,30)\n",
    "t2=(40,50,60)\n",
    "t_combine=t1+t2\n",
    "print(t_combine[3])\n",
    "\n"
   ]
  },
  {
   "cell_type": "code",
   "execution_count": 32,
   "metadata": {},
   "outputs": [
    {
     "name": "stdout",
     "output_type": "stream",
     "text": [
      "(10, 20, 30)\n"
     ]
    }
   ],
   "source": [
    "#d. Access the first three elements from “t_combine”\n",
    "t1=(10,20,30)\n",
    "t2=(40,50,60)\n",
    "t_combine=t1+t2\n",
    "print(t_combine[0:3])"
   ]
  },
  {
   "cell_type": "code",
   "execution_count": 33,
   "metadata": {},
   "outputs": [
    {
     "name": "stdout",
     "output_type": "stream",
     "text": [
      "(40, 50, 60)\n"
     ]
    }
   ],
   "source": [
    "#e. Access the last three elements from “t_combine”\n",
    "t1=(10,20,30)\n",
    "t2=(40,50,60)\n",
    "t_combine=t1+t2\n",
    "print(t_combine[3:6])\n",
    "\n",
    "\n"
   ]
  },
  {
   "cell_type": "code",
   "execution_count": 24,
   "metadata": {},
   "outputs": [
    {
     "name": "stdout",
     "output_type": "stream",
     "text": [
      "my_list --> (10, 20, 30, 40, 50, 60)\n"
     ]
    }
   ],
   "source": [
    "#2. Create a list ‘my_list’ with these elements:\n",
    "t1=(10,20,30)\n",
    "t2=(40,50,60)\n",
    "my_list=t1+t2\n",
    "print(\"my_list -->\",my_list)\n",
    "\n"
   ]
  },
  {
   "cell_type": "code",
   "execution_count": 34,
   "metadata": {},
   "outputs": [
    {
     "name": "stdout",
     "output_type": "stream",
     "text": [
      "t1 -->  (1, 2, 3)\n"
     ]
    }
   ],
   "source": [
    "#a. First element is a tuple with values 1,2,3\n",
    "t1=(1,2,3)\n",
    "print(\"t1 --> \", t1)\n",
    "\n"
   ]
  },
  {
   "cell_type": "code",
   "execution_count": 35,
   "metadata": {},
   "outputs": [
    {
     "name": "stdout",
     "output_type": "stream",
     "text": [
      "t2 -->  ('a', 'b', 'c')\n"
     ]
    }
   ],
   "source": [
    "#b. Second element is a tuple with values “a”,”b”,”c”\n",
    "t2=(\"a\",\"b\",\"c\")\n",
    "print(\"t2 --> \", t2)\n",
    "\n"
   ]
  },
  {
   "cell_type": "code",
   "execution_count": 36,
   "metadata": {},
   "outputs": [
    {
     "name": "stdout",
     "output_type": "stream",
     "text": [
      "t3 -->  ('True', 'False')\n"
     ]
    }
   ],
   "source": [
    "#c. Third element is a tuple with values True,False\n",
    "t3=(\"True\", \"False\")\n",
    "print(\"t3 --> \", t3)\n",
    "\n"
   ]
  },
  {
   "cell_type": "code",
   "execution_count": 37,
   "metadata": {},
   "outputs": [
    {
     "name": "stdout",
     "output_type": "stream",
     "text": [
      "new tuple -->  (10, 20, 30, 40, 50, 60, 1, 'a', 'True')\n"
     ]
    }
   ],
   "source": [
    "#3. Append a new tuple – (1,’a’,True) to ‘my_list’\n",
    "\n",
    "my_list=(10,20,30,40,50,60)\n",
    "t_append=my_list+(1,\"a\",\"True\")\n",
    "print(\"new tuple --> \", t_append)\n"
   ]
  },
  {
   "cell_type": "code",
   "execution_count": 38,
   "metadata": {},
   "outputs": [
    {
     "name": "stdout",
     "output_type": "stream",
     "text": [
      "new list -->  (10, 20, 30, 40, 50, 60, '*', 'sparta', '123+')\n"
     ]
    }
   ],
   "source": [
    "#a. Append a new list – *“sparta”,123+ to my_list\n",
    "my_list=(10,20,30,40,50,60)\n",
    "t_append=my_list+(\"*\",\"sparta\",\"123+\")\n",
    "print(\"new list --> \", t_append)\n",
    "\n"
   ]
  },
  {
   "cell_type": "code",
   "execution_count": 39,
   "metadata": {},
   "outputs": [
    {
     "name": "stdout",
     "output_type": "stream",
     "text": [
      "fruit -->  {1: 'Apple', 2: 'Banana', 3: 'Mango', 4: 'Guava'}\n"
     ]
    }
   ],
   "source": [
    "#4. Create a dictionary ‘fruit’ where:\n",
    "fruit={1:\"Apple\",2:\"Banana\",3:\"Mango\",4:\"Guava\"}\n",
    "print(\"fruit --> \", fruit)\n",
    "\n"
   ]
  },
  {
   "cell_type": "code",
   "execution_count": 51,
   "metadata": {},
   "outputs": [
    {
     "name": "stdout",
     "output_type": "stream",
     "text": [
      "{1: 'Apple', 2: 'Banana', 3: 'Mango', 4: 'Guava', 'Fruit': ('Apple', 'Banana', 'Mango', 'Guava')}\n"
     ]
    }
   ],
   "source": [
    "#a. The first key is ‘Fruit’ and the values are (“Apple”,”Banana”,”Mango”,”Guava”)\n",
    "\n",
    "fruit[\"Fruit\"]=(\"Apple\",\"Banana\",\"Mango\",\"Guava\")\n",
    "print(fruit)\n",
    "\n"
   ]
  },
  {
   "cell_type": "code",
   "execution_count": 52,
   "metadata": {},
   "outputs": [
    {
     "name": "stdout",
     "output_type": "stream",
     "text": [
      "{1: 'Apple', 2: 'Banana', 3: 'Mango', 4: 'Guava', 'Fruit': ('Apple', 'Banana', 'Mango', 'Guava'), 'Cost': (85, 53, 120, 70)}\n"
     ]
    }
   ],
   "source": [
    "#b. The second key is ‘Cost’ and the values are (85,54,120,70)\n",
    "\n",
    "\n",
    "fruit[\"Cost\"]=(85,53,120,70)\n",
    "print(fruit)\n",
    "\n"
   ]
  },
  {
   "cell_type": "code",
   "execution_count": 53,
   "metadata": {},
   "outputs": [
    {
     "name": "stdout",
     "output_type": "stream",
     "text": [
      "dict_keys([1, 2, 3, 4, 'Fruit', 'Cost'])\n"
     ]
    }
   ],
   "source": [
    "#c. Extract all the keys from ‘fruit’\n",
    "print(fruit.keys())\n",
    "\n",
    "\n"
   ]
  },
  {
   "cell_type": "code",
   "execution_count": 54,
   "metadata": {},
   "outputs": [
    {
     "name": "stdout",
     "output_type": "stream",
     "text": [
      "dict_values(['Apple', 'Banana', 'Mango', 'Guava', ('Apple', 'Banana', 'Mango', 'Guava'), (85, 53, 120, 70)])\n"
     ]
    }
   ],
   "source": [
    "#d. Extract all the values from ‘fruit’\n",
    "print(fruit.values())\n",
    "\n",
    "\n"
   ]
  },
  {
   "cell_type": "code",
   "execution_count": 55,
   "metadata": {},
   "outputs": [
    {
     "name": "stdout",
     "output_type": "stream",
     "text": [
      "{1, 'a'}\n"
     ]
    }
   ],
   "source": [
    "#5. Crete a set named ‘my_set’ with values (1,1,”a”,”a”,True,True) and print the result\n",
    "\n",
    "\n",
    "my_set = {1,1,\"a\",\"a\",True,True}\n",
    "print(my_set)\n",
    "\n"
   ]
  },
  {
   "cell_type": "markdown",
   "metadata": {},
   "source": [
    "Problem Statement: 7\n",
    "\n",
    "L is a list defined as L= [11, 12, 13, 14].\n",
    "(i)\t    WAP to add 50 and 60 to L. \n",
    "(ii)\tWAP to remove 11 and 13from L.\n",
    "(iii)\tWAP to sort L in ascending order.\n",
    "(iv)\tWAP to sort L in descending order.\n",
    "(v)\t    WAP to search for 13 in L.\n",
    "(vi)\tWAP to count the number of elements present in L.\n",
    "(vii)\tWAP to sum all the elements in L.\n",
    "(viii)\tWAP to sum all ODD numbers in L.\n",
    "(ix)\tWAP to sum all EVEN numbers in L.\n",
    "(x)\t    WAP to sum all PRIME numbers in L.\n",
    "(xi)\tWAP to clear all the elements in L.\n",
    "(xii)\tWAP to delete L.\n"
   ]
  },
  {
   "cell_type": "code",
   "execution_count": 56,
   "metadata": {},
   "outputs": [
    {
     "name": "stdout",
     "output_type": "stream",
     "text": [
      "[11, 12, 13, 14, 50, 60]\n"
     ]
    }
   ],
   "source": [
    "#(i)\t    WAP to add 50 and 60 to L. \n",
    "\n",
    "L= [11, 12, 13, 14]\n",
    "L.append(50)\n",
    "L.append(60)\n",
    "print(L)\n",
    "\n",
    "\n"
   ]
  },
  {
   "cell_type": "code",
   "execution_count": 57,
   "metadata": {},
   "outputs": [
    {
     "name": "stdout",
     "output_type": "stream",
     "text": [
      "[12, 14, 50, 60]\n"
     ]
    }
   ],
   "source": [
    "#(ii)\tWAP to remove 11 and 13from L.\n",
    "\n",
    "\n",
    "\n",
    "try:\n",
    "    L.remove(11)\n",
    "    L.remove(13)\n",
    "except:\n",
    "    print(\"Given elements are not present in list.\")\n",
    "print(L)"
   ]
  },
  {
   "cell_type": "code",
   "execution_count": 58,
   "metadata": {},
   "outputs": [
    {
     "name": "stdout",
     "output_type": "stream",
     "text": [
      "[12, 14, 50, 60]\n"
     ]
    }
   ],
   "source": [
    "#(iii)\tWAP to sort L in ascending order.\n",
    "L.sort()\n",
    "print(L)\n",
    "\n"
   ]
  },
  {
   "cell_type": "code",
   "execution_count": 59,
   "metadata": {},
   "outputs": [
    {
     "name": "stdout",
     "output_type": "stream",
     "text": [
      "[60, 50, 14, 12]\n"
     ]
    }
   ],
   "source": [
    "#(iv)\tWAP to sort L in descending order.\n",
    "\n",
    "L.sort(reverse=True)\n",
    "print(L)\n",
    "\n",
    "\n"
   ]
  },
  {
   "cell_type": "code",
   "execution_count": null,
   "metadata": {},
   "outputs": [],
   "source": [
    "#(v)\t    WAP to search for 13 in L.\n",
    "\n",
    "\n"
   ]
  },
  {
   "cell_type": "code",
   "execution_count": null,
   "metadata": {},
   "outputs": [],
   "source": [
    "#(vi)\tWAP to count the number of elements present in L.\n",
    "L=[1,2,3,4,5,6,7,8,9,]\n",
    "\n"
   ]
  },
  {
   "cell_type": "code",
   "execution_count": 60,
   "metadata": {},
   "outputs": [
    {
     "name": "stdout",
     "output_type": "stream",
     "text": [
      "13 is not present in the list\n"
     ]
    }
   ],
   "source": [
    "#(vii)\tWAP to sum all the elements in L.\n",
    "\n",
    "if (13 in L):\n",
    "    print(\"13 is present in the list\")\n",
    "else:\n",
    "    print(\"13 is not present in the list\")\n",
    "\n",
    "\n"
   ]
  },
  {
   "cell_type": "code",
   "execution_count": 61,
   "metadata": {},
   "outputs": [
    {
     "name": "stdout",
     "output_type": "stream",
     "text": [
      "4\n"
     ]
    }
   ],
   "source": [
    "#(viii)\tWAP to sum all ODD numbers in L.\n",
    "print(len(L))\n",
    "\n"
   ]
  },
  {
   "cell_type": "code",
   "execution_count": 62,
   "metadata": {},
   "outputs": [
    {
     "name": "stdout",
     "output_type": "stream",
     "text": [
      "136\n"
     ]
    }
   ],
   "source": [
    "#(ix)\tWAP to sum all EVEN numbers in L.\n",
    "\n",
    "\n",
    "sum_list = sum(L)\n",
    "print(sum_list)\n"
   ]
  },
  {
   "cell_type": "code",
   "execution_count": 63,
   "metadata": {},
   "outputs": [
    {
     "name": "stdout",
     "output_type": "stream",
     "text": [
      "Sum of Odd numbers in List are :  0\n"
     ]
    }
   ],
   "source": [
    "#(x)\t    WAP to sum all PRIME numbers in L.\n",
    "\n",
    "\n",
    "sum_odd = 0\n",
    "for i in L:\n",
    "    if i%2 != 0:\n",
    "        sum_odd+=i\n",
    "print(\"Sum of Odd numbers in List are : \",sum_odd)\n"
   ]
  },
  {
   "cell_type": "code",
   "execution_count": 64,
   "metadata": {},
   "outputs": [
    {
     "name": "stdout",
     "output_type": "stream",
     "text": [
      "Sum of Even numbers in List are :  136\n"
     ]
    }
   ],
   "source": [
    "#(xi)\tWAP to clear all the elements in L.\n",
    "\n",
    "\n",
    "sum_even = 0\n",
    "for i in L:\n",
    "    if i%2 == 0:\n",
    "        sum_even+=i\n",
    "print(\"Sum of Even numbers in List are : \",sum_even)\n"
   ]
  },
  {
   "cell_type": "code",
   "execution_count": 65,
   "metadata": {},
   "outputs": [
    {
     "name": "stdout",
     "output_type": "stream",
     "text": [
      "0\n"
     ]
    }
   ],
   "source": [
    "#(xii)\tWAP to delete L.\n",
    "sum_prime = 0\n",
    "for num in L:\n",
    "   if num > 1:\n",
    "       for i in range(2, int(num/2)+1):\n",
    "           if (num % i) == 0:\n",
    "               break\n",
    "       else:\n",
    "           sum_prime+=num\n",
    "print(sum_prime)            \n"
   ]
  },
  {
   "cell_type": "code",
   "execution_count": 66,
   "metadata": {},
   "outputs": [
    {
     "name": "stdout",
     "output_type": "stream",
     "text": [
      "[]\n"
     ]
    }
   ],
   "source": [
    "#(xi)\tWAP to clear all the elements in L.\n",
    "\n",
    "L.clear()\n",
    "print(L)\n"
   ]
  },
  {
   "cell_type": "code",
   "execution_count": 68,
   "metadata": {},
   "outputs": [
    {
     "name": "stdout",
     "output_type": "stream",
     "text": [
      "Given List is not present.\n"
     ]
    }
   ],
   "source": [
    "#(xii)\tWAP to delete L.\n",
    "try:\n",
    "    del L\n",
    "except:\n",
    "    print(\"Given List is not present.\")"
   ]
  },
  {
   "cell_type": "markdown",
   "metadata": {},
   "source": [
    "Problem Statement: 8\n",
    "\n",
    "D is a dictionary defined as D= {1:5.6, 2:7.8, 3:6.6, 4:8.7, 5:7.7}.\n",
    "(i)\tWAP to add new entry in D; key=8 and value is 8.8\n",
    "(ii)\tWAP to remove key=2.\n",
    "(iii)\tWAP to check weather 6 key is present in D.\n",
    "(iv)\tWAP to count the number of elements present in D.\n",
    "(v)\tWAP to add all the values present D.\n",
    "(vi)\tWAP to update the value of 3 to 7.1.\n",
    "(vii)\tWAP to clear the dictionary.\n"
   ]
  },
  {
   "cell_type": "code",
   "execution_count": 69,
   "metadata": {},
   "outputs": [
    {
     "name": "stdout",
     "output_type": "stream",
     "text": [
      "{1: 5.6, 2: 7.8, 3: 6.6, 4: 8.7, 5: 7.7, 8: 8.8}\n"
     ]
    }
   ],
   "source": [
    "#(i)\tWAP to add new entry in D; key=8 and value is 8.8\n",
    "D= {1:5.6, 2:7.8, 3:6.6, 4:8.7, 5:7.7}\n",
    "D[8]=8.8\n",
    "print(D)\n",
    "\n",
    "\n"
   ]
  },
  {
   "cell_type": "code",
   "execution_count": 70,
   "metadata": {},
   "outputs": [
    {
     "name": "stdout",
     "output_type": "stream",
     "text": [
      "{1: 5.6, 3: 6.6, 4: 8.7, 5: 7.7, 8: 8.8}\n"
     ]
    }
   ],
   "source": [
    "#(ii)\tWAP to remove key=2.\n",
    "\n",
    "try:\n",
    "    del D[2]\n",
    "except:\n",
    "    print(\"Given element is not present in the dictionary.\")\n",
    "print(D)\n",
    "\n"
   ]
  },
  {
   "cell_type": "code",
   "execution_count": 71,
   "metadata": {},
   "outputs": [
    {
     "name": "stdout",
     "output_type": "stream",
     "text": [
      "6 is NOT present in the dictionary\n"
     ]
    }
   ],
   "source": [
    "#(iii)\tWAP to check weather 6 key is present in D.\n",
    "\n",
    "flag = 0\n",
    "for i in D:\n",
    "    if D[i]==6:\n",
    "        flag = 1\n",
    "        break\n",
    "if flag:\n",
    "    print(\"6 is present in the dictionary\")\n",
    "else:\n",
    "    print(\"6 is NOT present in the dictionary\")\n",
    "\n"
   ]
  },
  {
   "cell_type": "code",
   "execution_count": 72,
   "metadata": {},
   "outputs": [
    {
     "name": "stdout",
     "output_type": "stream",
     "text": [
      "Number of elements in dictionary are :  5\n"
     ]
    }
   ],
   "source": [
    "#(iv)\tWAP to count the number of elements present in D.\n",
    "\n",
    "print(\"Number of elements in dictionary are : \",len(D))\n",
    "\n",
    "\n"
   ]
  },
  {
   "cell_type": "code",
   "execution_count": 73,
   "metadata": {},
   "outputs": [
    {
     "name": "stdout",
     "output_type": "stream",
     "text": [
      "Sum =  37.4\n"
     ]
    }
   ],
   "source": [
    "#(v)\tWAP to add all the values present D.\n",
    "sum_dic = 0\n",
    "for i in D:\n",
    "    sum_dic+=D[i]\n",
    "print(\"Sum = \",sum_dic)\n",
    "\n",
    "\n"
   ]
  },
  {
   "cell_type": "code",
   "execution_count": 74,
   "metadata": {},
   "outputs": [
    {
     "name": "stdout",
     "output_type": "stream",
     "text": [
      "{1: 5.6, 3: 7.1, 4: 8.7, 5: 7.7, 8: 8.8}\n"
     ]
    }
   ],
   "source": [
    "#(vi)\tWAP to update the value of 3 to 7.1.\n",
    "\n",
    "\n",
    "D[3]=7.1\n",
    "print(D)"
   ]
  },
  {
   "cell_type": "code",
   "execution_count": 75,
   "metadata": {},
   "outputs": [
    {
     "name": "stdout",
     "output_type": "stream",
     "text": [
      "{}\n"
     ]
    }
   ],
   "source": [
    "# (vii)\tWAP to clear the dictionary.\n",
    "\n",
    "D.clear()\n",
    "print(D)"
   ]
  },
  {
   "cell_type": "markdown",
   "metadata": {},
   "source": [
    "Problem Statement: 9\n",
    "\n",
    "S1 is a set defined as S1= [10, 20, 30, 40, 50, 60].\n",
    "    S2 is a set defined as S2= [40, 50, 60, 70, 80, 90].\n",
    "(i)\t    WAP to add 55 and 66 in Set S1.\n",
    "(ii)\tWAP to remove 10 and 30 from Set S1.\n",
    "(iii)\tWAP to check whether 40 is present in S1.\n",
    "(iv)\tWAP to find the union between S1 and S2.\n",
    "(v)\t    WAP to find the intersection between S1 and S2.\n",
    "(vi)\tWAP to find the S1 - S2.\n"
   ]
  },
  {
   "cell_type": "code",
   "execution_count": 76,
   "metadata": {},
   "outputs": [],
   "source": [
    "#    S1 is a set defined as S1= [10, 20, 30, 40, 50, 60].\n",
    "#    S2 is a set defined as S2= [40, 50, 60, 70, 80, 90].\n",
    "\n",
    "\n",
    "S1={10, 20, 30, 40, 50, 60}\n",
    "S2={40, 50, 60, 70, 80, 90}"
   ]
  },
  {
   "cell_type": "code",
   "execution_count": 77,
   "metadata": {},
   "outputs": [
    {
     "name": "stdout",
     "output_type": "stream",
     "text": [
      "{50, 66, 20, 55, 40, 10, 60, 30}\n"
     ]
    }
   ],
   "source": [
    "# (i)\t    WAP to add 55 and 66 in Set S1.\n",
    "\n",
    "S1.add(55)\n",
    "S1.add(66)\n",
    "print(S1)\n",
    "\n",
    "\n"
   ]
  },
  {
   "cell_type": "code",
   "execution_count": 78,
   "metadata": {},
   "outputs": [
    {
     "name": "stdout",
     "output_type": "stream",
     "text": [
      "{50, 66, 20, 55, 40, 60}\n"
     ]
    }
   ],
   "source": [
    "# (ii)\tWAP to remove 10 and 30 from Set S1.\n",
    "\n",
    "S1.discard(10)\n",
    "S1.discard(30)\n",
    "print(S1)\n",
    "\n"
   ]
  },
  {
   "cell_type": "code",
   "execution_count": 79,
   "metadata": {},
   "outputs": [
    {
     "name": "stdout",
     "output_type": "stream",
     "text": [
      "40 is present in the set\n"
     ]
    }
   ],
   "source": [
    "# (iii)\tWAP to check whether 40 is present in S1.\n",
    "\n",
    "if (40 in S1):\n",
    "    print(\"40 is present in the set\")\n",
    "else:\n",
    "    print(\"40 is not present in the set\")\n",
    "\n",
    "\n"
   ]
  },
  {
   "cell_type": "code",
   "execution_count": 80,
   "metadata": {},
   "outputs": [
    {
     "name": "stdout",
     "output_type": "stream",
     "text": [
      "{66, 70, 40, 80, 50, 20, 55, 90, 60}\n"
     ]
    }
   ],
   "source": [
    "# (iv)\tWAP to find the union between S1 and S2.\n",
    "union_S1_S2 = S1.union(S2)\n",
    "print(union_S1_S2)\n",
    "\n",
    "\n"
   ]
  },
  {
   "cell_type": "code",
   "execution_count": 81,
   "metadata": {},
   "outputs": [
    {
     "name": "stdout",
     "output_type": "stream",
     "text": [
      "{40, 50, 60}\n"
     ]
    }
   ],
   "source": [
    "# (v)\t    WAP to find the intersection between S1 and S2.\n",
    "\n",
    "intersection_S1_S2 = S1.intersection(S2)\n",
    "print(intersection_S1_S2)\n",
    "\n"
   ]
  },
  {
   "cell_type": "code",
   "execution_count": 82,
   "metadata": {},
   "outputs": [
    {
     "name": "stdout",
     "output_type": "stream",
     "text": [
      "{66, 20, 55}\n"
     ]
    }
   ],
   "source": [
    "# (vi)\tWAP to find the S1 - S2.\n",
    "\n",
    "diff_S1_S2 = S1.difference(S2)\n",
    "print(diff_S1_S2)\n",
    "\n"
   ]
  },
  {
   "cell_type": "markdown",
   "metadata": {},
   "source": [
    "Problem Statement: 10\n",
    "\n",
    "Write the following program.\n",
    "(i)\t    WAP to print 100 random strings whose length between 6 and 8.\n",
    "(ii)\tWAP to print all prime numbers between 600 and 800.\n",
    "(iii)\tWAP to print all numbers between 100 and 1000 that are divisible by 7 and 9.\n",
    "\n"
   ]
  },
  {
   "cell_type": "code",
   "execution_count": 83,
   "metadata": {},
   "outputs": [
    {
     "name": "stdout",
     "output_type": "stream",
     "text": [
      "ZFIK0MOZ , CFZXHEDI , CCAO23P7 , 89HP1ZD , 96LUPVE , ZD5CH2DN , 2KZZQU24 , X0PN90S , HNEBRI , LD4YPG , ZL810L2V , 5M2GFF , ZMWGIQ1E , J1UR62Q8 , M3A7DO , MNS5IP2I , BWN1EP , S7EGKZ , 33J9ON , IR7KXT7 , 0CF6O30Z , JOYDBE , BZEVUV , LCJJOZH , R378GC5U , RYZ9PS , ILC9BDGW , YE1R8J0 , WPT3XX56 , KN3RF16 , XLTJF8R , 8ZV76L8C , 2D870QV , 89O64IV3 , XUB3BX , 2DQG0X , IP4HL2J , IMV48D , HHIH80 , X8LO36 , UQ7DAFXK , FFL2JE , GHRWDLVY , Y3EPEU1 , JUXVQ3 , 7ZGD7M2 , WX83TVR , BNJ9RC , HM6I5Q , YA79X3 , ISJS3G , 1QELNUC , BPMDY5Y , 0CE9023 , H8Y737 , GXASPZX5 , UKKUN8H , EUSDZRT , TPM7GY2 , KJMDGMG , X2I5XD , 2LQJNVM7 , D0Z8OL , M31L6G3 , QYTEISBE , 7B34LO4N , 8BU0OYY , TF33IP , A2XJ3F , V0UODXEY , D86RL8X , 8Y9OURS6 , B3H2R1 , CLTPTWA , J9H9U2J6 , VPM04FEL , Q5KIOYPQ , TKJ8G30A , G7037K , 7HL6H2U , WNEL4W9 , 8DPI82 , NAHD8BQI , 0ETL7F9 , EZBSMKFP , O41MOD , NJ30MOQ , COUMF5J , 7HUCN89 , XX03WK0 , I8XCX2 , 84I0CD , JR5GL36R , EUF72YU , WI8KPPV , LRQP04UX , 30FACH , YYZ2AJ , ZRAHRY , AZTTCX , "
     ]
    }
   ],
   "source": [
    "# (i)\t    WAP to print 100 random strings whose length between 6 and 8.\n",
    "\n",
    "\n",
    "import string\n",
    "import random\n",
    "\n",
    "for i in range(100):\n",
    "    res = ''.join(random.choices(string.ascii_uppercase +\n",
    "                                 string.digits,k=random.randint(6,8)))\n",
    "\n",
    "    print(res,end=\" , \")\n"
   ]
  },
  {
   "cell_type": "code",
   "execution_count": 84,
   "metadata": {},
   "outputs": [
    {
     "name": "stdout",
     "output_type": "stream",
     "text": [
      "Prime nubers between 600 and 800 are : \n",
      "601 , 607 , 613 , 617 , 619 , 631 , 641 , 643 , 647 , 653 , 659 , 661 , 673 , 677 , 683 , 691 , 701 , 709 , 719 , 727 , 733 , 739 , 743 , 751 , 757 , 761 , 769 , 773 , 787 , 797 , "
     ]
    }
   ],
   "source": [
    "# (ii)\tWAP to print all prime numbers between 600 and 800.\n",
    "\n",
    "\n",
    "print(\"Prime nubers between 600 and 800 are : \")\n",
    "for num in range(600,801):\n",
    "   if num > 1:\n",
    "       for i in range(2, int(num/2)+1):\n",
    "           if (num % i) == 0:\n",
    "               break\n",
    "       else:\n",
    "           print(num,end=\" , \")  \n",
    "    \n",
    "\n"
   ]
  },
  {
   "cell_type": "code",
   "execution_count": 85,
   "metadata": {},
   "outputs": [
    {
     "name": "stdout",
     "output_type": "stream",
     "text": [
      "Numbers divisible by 7 and 8 between 100 and 1000 are : \n",
      "126 , 189 , 252 , 315 , 378 , 441 , 504 , 567 , 630 , 693 , 756 , 819 , 882 , 945 , "
     ]
    }
   ],
   "source": [
    "print(\"Numbers divisible by 7 and 8 between 100 and 1000 are : \")\n",
    "for i in range(100,1001):\n",
    "    if i%7==0 and i%9==0:\n",
    "        print(i,end=\" , \")"
   ]
  },
  {
   "cell_type": "code",
   "execution_count": 86,
   "metadata": {},
   "outputs": [
    {
     "name": "stdout",
     "output_type": "stream",
     "text": [
      "Numbers divisible by 7 and 8 between 100 and 1000 are : \n",
      "126 , 189 , 252 , 315 , 378 , 441 , 504 , 567 , 630 , 693 , 756 , 819 , 882 , 945 , "
     ]
    }
   ],
   "source": [
    "# (iii)\tWAP to print all numbers between 100 and 1000 that are divisible by 7 and 9.\n",
    "\n",
    "print(\"Numbers divisible by 7 and 8 between 100 and 1000 are : \")\n",
    "for i in range(100,1001):\n",
    "    if i%7==0 and i%9==0:\n",
    "        print(i,end=\" , \")"
   ]
  },
  {
   "cell_type": "markdown",
   "metadata": {},
   "source": [
    "Problem Statement: 11\n",
    "\n",
    "WAP to create two lists of 10 random numbers between 10 and 30; Find \n",
    "(i)\t    Common numbers in the two lists\n",
    "(ii)\tUnique numbers in both the list\n",
    "(iii)\tMinimum in both the list\n",
    "(iv)\tMaximum in both the list\n",
    "(v)\t    Sum of both the lists\n"
   ]
  },
  {
   "cell_type": "code",
   "execution_count": 87,
   "metadata": {},
   "outputs": [
    {
     "name": "stdout",
     "output_type": "stream",
     "text": [
      "[13, 12, 11, 17, 28, 13, 13, 17, 20, 18]\n",
      "[29, 28, 24, 18, 27, 25, 22, 24, 27, 11]\n",
      "Common numbers in the two lists are :\n",
      "11 , 28 , 18 , "
     ]
    }
   ],
   "source": [
    "# (i)\t    Common numbers in the two lists\n",
    "\n",
    "l1=[]\n",
    "l2=[]\n",
    "for i in range(10):\n",
    "    l1.append(random.randint(10,30))\n",
    "    l2.append(random.randint(10,30))\n",
    "print(l1)\n",
    "print(l2)\n",
    "print(\"Common numbers in the two lists are :\")\n",
    "for i in l1:\n",
    "    if i in l2:\n",
    "        print(i,end=\" , \")\n"
   ]
  },
  {
   "cell_type": "code",
   "execution_count": 88,
   "metadata": {},
   "outputs": [
    {
     "name": "stdout",
     "output_type": "stream",
     "text": [
      "Unique numbers in both list are : \n",
      "13 , 12 , 17 , 13 , 13 , 17 , 20 , 29 , 24 , 27 , 25 , 22 , 24 , 27 , "
     ]
    }
   ],
   "source": [
    "# (ii)\tUnique numbers in both the list\n",
    "\n",
    "print(\"Unique numbers in both list are : \")\n",
    "for i in l1:\n",
    "    if i not in l2:\n",
    "        print(i,end=\" , \")\n",
    "for i in l2:\n",
    "    if i not in l1:\n",
    "        print(i,end=\" , \")\n"
   ]
  },
  {
   "cell_type": "code",
   "execution_count": 89,
   "metadata": {},
   "outputs": [
    {
     "name": "stdout",
     "output_type": "stream",
     "text": [
      "Minimum in list 1 :  11\n",
      "Minimum in list 2 :  11\n"
     ]
    }
   ],
   "source": [
    "# (iii)\tMinimum in both the list\n",
    "print(\"Minimum in list 1 : \",min(l1))\n",
    "print(\"Minimum in list 2 : \",min(l2))\n",
    "\n",
    "\n",
    "\n"
   ]
  },
  {
   "cell_type": "code",
   "execution_count": 90,
   "metadata": {},
   "outputs": [
    {
     "name": "stdout",
     "output_type": "stream",
     "text": [
      "Maximum in list 1 :  28\n",
      "Maximum in list 2 :  29\n"
     ]
    }
   ],
   "source": [
    "# (iv)\tMaximum in both the list\n",
    "print(\"Maximum in list 1 : \",max(l1))\n",
    "print(\"Maximum in list 2 : \",max(l2))\n",
    "\n",
    "\n"
   ]
  },
  {
   "cell_type": "code",
   "execution_count": 91,
   "metadata": {},
   "outputs": [
    {
     "name": "stdout",
     "output_type": "stream",
     "text": [
      "Sum for first list is : 162\n",
      "Sum of second list is : 235\n"
     ]
    }
   ],
   "source": [
    "# (v)\t    Sum of both the lists\n",
    "sum1,sum2=0,0\n",
    "for i in l1:\n",
    "    sum1+=i\n",
    "for i in l2:\n",
    "    sum2+=i\n",
    "print(\"Sum for first list is :\",sum1)\n",
    "print(\"Sum of second list is :\",sum2)\n",
    "\n"
   ]
  },
  {
   "cell_type": "markdown",
   "metadata": {},
   "source": [
    "Problem Statement: 12\n",
    "\n",
    "WAP to create a list of 100 random numbers between 100 and 900. Count and print the: \n",
    "(i)\tAll odd numbers\n",
    "(ii)\tAll even numbers\n",
    "(iii)\tAll prime numbers\n"
   ]
  },
  {
   "cell_type": "code",
   "execution_count": 92,
   "metadata": {},
   "outputs": [
    {
     "name": "stdout",
     "output_type": "stream",
     "text": [
      "[657, 721, 335, 215, 238, 443, 559, 124, 525, 829, 801, 559, 125, 111, 365, 314, 575, 288, 810, 714, 897, 777, 745, 717, 685, 515, 164, 252, 603, 719, 296, 223, 391, 731, 886, 606, 324, 612, 534, 826, 161, 744, 532, 182, 497, 697, 420, 157, 430, 795, 779, 264, 708, 796, 735, 140, 101, 616, 444, 541, 445, 410, 469, 260, 325, 490, 305, 385, 802, 799, 743, 361, 850, 687, 664, 521, 563, 301, 822, 243, 169, 365, 401, 736, 439, 728, 125, 126, 428, 641, 537, 206, 419, 531, 282, 503, 388, 384, 761, 618]\n"
     ]
    }
   ],
   "source": [
    "# WAP to create a list of 100 random numbers between 100 and 900. \n",
    "l=[]\n",
    "for i in range(100):\n",
    "    l.append(random.randint(100,900))\n",
    "print(l)\n"
   ]
  },
  {
   "cell_type": "code",
   "execution_count": 93,
   "metadata": {},
   "outputs": [
    {
     "name": "stdout",
     "output_type": "stream",
     "text": [
      "657, 721, 335, 215, 443, 559, 525, 829, 801, 559, 125, 111, 365, 575, 897, 777, 745, 717, 685, 515, 603, 719, 223, 391, 731, 161, 497, 697, 157, 795, 779, 735, 101, 541, 445, 469, 325, 305, 385, 799, 743, 361, 687, 521, 563, 301, 243, 169, 365, 401, 439, 125, 641, 537, 419, 531, 503, 761, \n",
      "Total odd numbers are : 58\n"
     ]
    }
   ],
   "source": [
    "# Count and print the (i)\tAll odd numbers\n",
    "\n",
    "counter=0\n",
    "for i in l:\n",
    "    if i%2!=0:\n",
    "        counter+=1\n",
    "        print(i,end=\", \")\n",
    "print(\"\\nTotal odd numbers are :\",counter)\n"
   ]
  },
  {
   "cell_type": "code",
   "execution_count": 94,
   "metadata": {},
   "outputs": [
    {
     "name": "stdout",
     "output_type": "stream",
     "text": [
      "238, 124, 314, 288, 810, 714, 164, 252, 296, 886, 606, 324, 612, 534, 826, 744, 532, 182, 420, 430, 264, 708, 796, 140, 616, 444, 410, 260, 490, 802, 850, 664, 822, 736, 728, 126, 428, 206, 282, 388, 384, 618, \n",
      "Total even numbers are : 42\n"
     ]
    }
   ],
   "source": [
    "# Count and print the (ii)\tAll even numbers\n",
    "\n",
    "\n",
    "counter=0\n",
    "for i in l:\n",
    "    if i%2==0:\n",
    "        counter+=1\n",
    "        print(i,end=\", \")\n",
    "print(\"\\nTotal even numbers are :\",counter)\n"
   ]
  },
  {
   "cell_type": "code",
   "execution_count": 95,
   "metadata": {},
   "outputs": [
    {
     "name": "stdout",
     "output_type": "stream",
     "text": [
      "443, 829, 719, 223, 157, 101, 541, 743, 521, 563, 401, 439, 641, 419, 503, 761, \n",
      "Total prime numbers are : 16\n"
     ]
    }
   ],
   "source": [
    "# Count and print the (iii)\tAll prime numbers\n",
    "\n",
    "counter=0\n",
    "for num in l:\n",
    "    if num > 1:\n",
    "       for i in range(2, int(num/2)+1):\n",
    "           if (num % i) == 0:\n",
    "               break\n",
    "       else:\n",
    "           counter+=1\n",
    "           print(num,end=\", \")\n",
    "   \n",
    "print(\"\\nTotal prime numbers are :\",counter)\n"
   ]
  },
  {
   "cell_type": "markdown",
   "metadata": {},
   "source": [
    "Problem Statement: 13\n",
    "\n",
    "D is a dictionary defined as D={1:\"One\",2:\"Two\",3:\"Three\",4:\"Four\", 5:\"Five\"}. \n",
    "WAP to read all the keys and values from dictionary and write to the file in the given below format.\n",
    "\t\n",
    "    Key1, Value1\n",
    "\tKey2, Value2\n",
    "\tKey3, Value3\n"
   ]
  },
  {
   "cell_type": "code",
   "execution_count": 96,
   "metadata": {},
   "outputs": [
    {
     "name": "stdout",
     "output_type": "stream",
     "text": [
      "Successfully Written in file.\n"
     ]
    }
   ],
   "source": [
    "D={1:\"One\",2:\"Two\",3:\"Three\",4:\"Four\", 5:\"Five\"}\n",
    "fin = open(\"KeyValuePair.txt\",\"w\")\n",
    "fin.write(\"\")\n",
    "fin.close()\n",
    "fin = open(\"KeyValuePair.txt\",\"a\")\n",
    "for i in D:\n",
    "    fin.write(str(i)+\",  \"+D[i]+\"\\n\")\n",
    "fin.close()\n",
    "print(\"Successfully Written in file.\")"
   ]
  },
  {
   "cell_type": "markdown",
   "metadata": {},
   "source": [
    "Problem Statement: 14\n",
    "\n",
    "L is a list defined as L={\"One\",\"Two\",\"Three\",\"Four\",\"Five\"}.\n",
    "WAP to count the length of reach element from a list and write to the file in the given below format:\n",
    "\tOne, 3\n",
    "\tTwo, 3\n",
    "\tFour, 4\n"
   ]
  },
  {
   "cell_type": "code",
   "execution_count": 97,
   "metadata": {},
   "outputs": [
    {
     "name": "stdout",
     "output_type": "stream",
     "text": [
      "Successfully Written in file.\n"
     ]
    }
   ],
   "source": [
    "L=[\"One\",\"Two\",\"Three\",\"Four\",\"Five\"]\n",
    "fin = open(\"ListElementLength.txt\",\"w\")\n",
    "fin.write(\"\")\n",
    "fin.close()\n",
    "\n",
    "fin = open(\"ListElementLength.txt\",\"a\")\n",
    "for i in L:\n",
    "    fin.write(i+\" , \"+str(len(i))+\"\\n\")\n",
    "fin.close()\n",
    "print(\"Successfully Written in file.\")"
   ]
  },
  {
   "cell_type": "markdown",
   "metadata": {},
   "source": [
    "Problem Statement: 15\n",
    "\n",
    "Write to the file 100 random strings whose length between 10 and 15."
   ]
  },
  {
   "cell_type": "code",
   "execution_count": 98,
   "metadata": {},
   "outputs": [
    {
     "name": "stdout",
     "output_type": "stream",
     "text": [
      "Successfully Written in file.\n"
     ]
    }
   ],
   "source": [
    "fin = open(\"100RandomStrings.txt\",\"w\")\n",
    "fin.write(\"\")\n",
    "fin.close()\n",
    "fin = open(\"100RandomStrings.txt\",\"a\")\n",
    "for i in range(100):\n",
    "    res = ''.join(random.choices(string.ascii_uppercase + string.digits,k=random.randint(10,15)))\n",
    "    fin.write(res+\"\\n\")\n",
    "fin.close()\n",
    "print(\"Successfully Written in file.\")"
   ]
  },
  {
   "cell_type": "markdown",
   "metadata": {},
   "source": [
    "Problem Statement: 16\n",
    "\n",
    "Write to the file all prime numbers between 600 and 800."
   ]
  },
  {
   "cell_type": "code",
   "execution_count": 99,
   "metadata": {},
   "outputs": [
    {
     "name": "stdout",
     "output_type": "stream",
     "text": [
      "Successfully Written in file.\n"
     ]
    }
   ],
   "source": [
    "fin = open(\"primeNo.txt\",\"w\")\n",
    "fin.write(\"\")\n",
    "fin.close()\n",
    "fin = open(\"primeNo.txt\",\"a\")\n",
    "for num in range(600,801):\n",
    "    if num > 1:\n",
    "       for i in range(2, int(num/2)+1):\n",
    "           if (num % i) == 0:\n",
    "               break\n",
    "       else:\n",
    "           fin.write(str(num)+\"\\n\")\n",
    "fin.close()\n",
    "print(\"Successfully Written in file.\")"
   ]
  },
  {
   "cell_type": "markdown",
   "metadata": {},
   "source": [
    "Problem Statement: 17\n",
    "\n",
    "WAP to calculate the time taken by a program."
   ]
  },
  {
   "cell_type": "code",
   "execution_count": 100,
   "metadata": {},
   "outputs": [
    {
     "name": "stdout",
     "output_type": "stream",
     "text": [
      "Time taken :  0.0010006427764892578\n"
     ]
    }
   ],
   "source": [
    "import time\n",
    "start = time.time()    # taking starting time of program\n",
    "# do whatever task you want to perform For eg: doing something as shown:\n",
    "for i in range(1000):\n",
    "    x=0\n",
    "end = time.time()\n",
    "print(\"Time taken : \",end-start)"
   ]
  },
  {
   "cell_type": "markdown",
   "metadata": {},
   "source": [
    "Problem Statement: 18\n",
    "\n",
    "WAP to sort following number of elements in a list, calculate time taken and plot the graph.   \n",
    "\n",
    "Number of elements in list\t    Time Taken\n",
    "            50k                     T1\n",
    "            100k\t                T2\n",
    "            150k\t                T3\n",
    "            200k\t                T4\n",
    "            250k\t                T5"
   ]
  },
  {
   "cell_type": "code",
   "execution_count": null,
   "metadata": {},
   "outputs": [],
   "source": []
  },
  {
   "cell_type": "markdown",
   "metadata": {},
   "source": [
    "Problem Statement: 19\n",
    "\n",
    "WAP to create a dictionary of student marks in five subjects and you have to find the student \n",
    "         having maximum and minimum average marks.\n"
   ]
  },
  {
   "cell_type": "code",
   "execution_count": null,
   "metadata": {},
   "outputs": [],
   "source": [
    "students = dict()  #creating dictionary\n",
    "try:\n",
    "    n = int(input(\"Enter number of students :\"))\n",
    "except:\n",
    "    print(\"Enter Only positive integer. NOTE(Assuming number of students to be 1)\")\n",
    "    n=1\n",
    "for i in range(n):\n",
    "        name = input(\"Enter name of student :\")\n",
    "        marks_list= []\n",
    "        for j in range(5):\n",
    "            try:\n",
    "                marks = float(input(\"Enter marks out of 100:\"))\n",
    "                if marks>100:\n",
    "                    marks=100\n",
    "            except:\n",
    "                print(\"Marks should be a Whole number Only !! NOTE : (Assuming marks to be 0)\")\n",
    "                marks=0\n",
    "            marks_list.append(marks)] = marks_list   #key = name \n",
    "print(\"Dictionary of student created successfully : \")\n",
    "\n",
    "max_avg=0\n",
    "min_avg=500\n",
    "for i in students:   #for maximum and minimum average\n",
    "    sums=0\n",
    "    for j in students[i]:\n",
    "        sums += j\n",
    "    avg = sums/5\n",
    "    if avg>max_avg:\n",
    "        max_avg = avg\n",
    "        max_avg_student = i\n",
    "    if avg<min_avg:\n",
    "        min_avg = avg\n",
    "        min_avg_student = i\n",
    "print(\"Maximum Average Student : \",max_avg_student)\n",
    "print(\"Minimum Average Student : \",min_avg_student)\n",
    "\n",
    "\n",
    "\n",
    "\n",
    "        \n",
    "    "
   ]
  },
  {
   "cell_type": "code",
   "execution_count": null,
   "metadata": {},
   "outputs": [],
   "source": []
  },
  {
   "cell_type": "code",
   "execution_count": null,
   "metadata": {},
   "outputs": [],
   "source": []
  }
 ],
 "metadata": {
  "kernelspec": {
   "display_name": "Python 3 (ipykernel)",
   "language": "python",
   "name": "python3"
  },
  "language_info": {
   "codemirror_mode": {
    "name": "ipython",
    "version": 3
   },
   "file_extension": ".py",
   "mimetype": "text/x-python",
   "name": "python",
   "nbconvert_exporter": "python",
   "pygments_lexer": "ipython3",
   "version": "3.9.7"
  },
  "vscode": {
   "interpreter": {
    "hash": "1ff119fd73f6efb42dc661ed02a7fc7e48a96a1d1052120d76393e555fb208ae"
   }
  }
 },
 "nbformat": 4,
 "nbformat_minor": 2
}
