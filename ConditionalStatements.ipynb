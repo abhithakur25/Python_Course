{
 "cells": [
  {
   "cell_type": "code",
   "execution_count": null,
   "id": "12332900",
   "metadata": {},
   "outputs": [],
   "source": [
    "# Find out greater number from three numbers\n",
    "\n",
    "A=int(input(\"Enter value for A: \"))\n",
    "B=int(input(\"Enter value for B: \"))\n",
    "C=int(input(\"Enter value for C: \"))\n",
    "\n",
    "if A>B and A>C:\n",
    "    print(\"A is greater\")\n",
    "elif B>C and B>A:\n",
    "    print(\"B is greater\")\n",
    "elif C>A and C>B:\n",
    "    print(\"C is greater\")\n",
    "else:\n",
    "    print(\"All Equal\")"
   ]
  },
  {
   "cell_type": "code",
   "execution_count": null,
   "id": "4c251644",
   "metadata": {},
   "outputs": [],
   "source": [
    "Name=str(input(\"Enter Name: \"))\n",
    "for i in range(0,10):\n",
    "    print(i,\" \", Name)"
   ]
  },
  {
   "cell_type": "code",
   "execution_count": null,
   "id": "702a0176",
   "metadata": {},
   "outputs": [],
   "source": [
    "Name=str(input(\"Enter Name: \"))\n",
    "i=1\n",
    "while i<=10:\n",
    "    print(Name)\n",
    "    i+=1\n",
    "    "
   ]
  },
  {
   "cell_type": "code",
   "execution_count": null,
   "id": "3870a5af",
   "metadata": {},
   "outputs": [],
   "source": []
  },
  {
   "cell_type": "code",
   "execution_count": null,
   "id": "db662c77",
   "metadata": {},
   "outputs": [],
   "source": []
  }
 ],
 "metadata": {
  "kernelspec": {
   "display_name": "Python 3 (ipykernel)",
   "language": "python",
   "name": "python3"
  },
  "language_info": {
   "codemirror_mode": {
    "name": "ipython",
    "version": 3
   },
   "file_extension": ".py",
   "mimetype": "text/x-python",
   "name": "python",
   "nbconvert_exporter": "python",
   "pygments_lexer": "ipython3",
   "version": "3.9.7"
  }
 },
 "nbformat": 4,
 "nbformat_minor": 5
}
