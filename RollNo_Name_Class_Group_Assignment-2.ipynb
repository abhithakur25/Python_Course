{
 "cells": [
  {
   "cell_type": "markdown",
   "id": "480ad9cc",
   "metadata": {},
   "source": [
    "# 1. Program to enter two numbers and print the arithmetic operations like +,-,*, /, // and%."
   ]
  },
  {
   "cell_type": "code",
   "execution_count": null,
   "id": "507154d4",
   "metadata": {},
   "outputs": [],
   "source": []
  },
  {
   "cell_type": "markdown",
   "id": "cb6c583f",
   "metadata": {},
   "source": [
    "# • 2. Write a program to find whether an inputted number is perfect or not.\n"
   ]
  },
  {
   "cell_type": "code",
   "execution_count": null,
   "id": "e99311c9",
   "metadata": {},
   "outputs": [],
   "source": []
  },
  {
   "cell_type": "markdown",
   "id": "1fc60332",
   "metadata": {},
   "source": [
    "# • 3.Write a Program to check if the entered number is Armstrong or not.\n"
   ]
  },
  {
   "cell_type": "code",
   "execution_count": null,
   "id": "09326336",
   "metadata": {},
   "outputs": [],
   "source": []
  },
  {
   "cell_type": "markdown",
   "id": "12aff8fe",
   "metadata": {},
   "source": [
    "# • 4.Write a Program to find factorial of the entered number."
   ]
  },
  {
   "cell_type": "code",
   "execution_count": null,
   "id": "6fd2e39a",
   "metadata": {},
   "outputs": [],
   "source": []
  },
  {
   "cell_type": "markdown",
   "id": "33fd0769",
   "metadata": {},
   "source": [
    "# 5.Write a Program to enter the number of terms and to print the Fibonacci Series.\n"
   ]
  },
  {
   "cell_type": "code",
   "execution_count": null,
   "id": "ca32c85b",
   "metadata": {},
   "outputs": [],
   "source": []
  },
  {
   "cell_type": "markdown",
   "id": "ea454eda",
   "metadata": {},
   "source": [
    "# • 6.Write a Program to enter the string and to check if it’s palindrome or not using loop.\n"
   ]
  },
  {
   "cell_type": "code",
   "execution_count": null,
   "id": "4bafea1b",
   "metadata": {},
   "outputs": [],
   "source": []
  },
  {
   "cell_type": "markdown",
   "id": "536d4a0b",
   "metadata": {},
   "source": [
    "# • 7.Recursively find the factorial of a natural number."
   ]
  },
  {
   "cell_type": "code",
   "execution_count": null,
   "id": "4baa42cf",
   "metadata": {},
   "outputs": [],
   "source": []
  },
  {
   "cell_type": "markdown",
   "id": "2c788e84",
   "metadata": {},
   "source": [
    "# • 8.Read a file line by line and print it.\n"
   ]
  },
  {
   "cell_type": "code",
   "execution_count": null,
   "id": "a3aa8d0f",
   "metadata": {},
   "outputs": [],
   "source": []
  },
  {
   "cell_type": "markdown",
   "id": "f140c2ec",
   "metadata": {},
   "source": [
    "# • 9.Remove all the lines that contain the character “a” in a file and write it into another file.\n"
   ]
  },
  {
   "cell_type": "code",
   "execution_count": null,
   "id": "65ddc342",
   "metadata": {},
   "outputs": [],
   "source": []
  },
  {
   "cell_type": "markdown",
   "id": "e1063a33",
   "metadata": {},
   "source": [
    "# • 10.Read a text file and display the number of vowels/consonants/uppercase/lowercase characters in the file.\n"
   ]
  },
  {
   "cell_type": "code",
   "execution_count": null,
   "id": "701df9d8",
   "metadata": {},
   "outputs": [],
   "source": []
  },
  {
   "cell_type": "markdown",
   "id": "e8975168",
   "metadata": {},
   "source": [
    "# • 11.Create a binary file with name and roll no. Search for a given roll number and display the name, if not found display appropriate message.\n"
   ]
  },
  {
   "cell_type": "code",
   "execution_count": null,
   "id": "2a9509c1",
   "metadata": {},
   "outputs": [],
   "source": []
  },
  {
   "cell_type": "markdown",
   "id": "9880e226",
   "metadata": {},
   "source": [
    "# • 12.Write a random number generator that generates random numbers between 1 and 6(simulates a dice)\n"
   ]
  },
  {
   "cell_type": "code",
   "execution_count": null,
   "id": "6d0ebf29",
   "metadata": {},
   "outputs": [],
   "source": []
  },
  {
   "cell_type": "markdown",
   "id": "d6ba3ad6",
   "metadata": {},
   "source": [
    "# • 13.Write a python program to implement a stack using a list data structure.\n"
   ]
  },
  {
   "cell_type": "code",
   "execution_count": null,
   "id": "dbcbe055",
   "metadata": {},
   "outputs": [],
   "source": []
  },
  {
   "cell_type": "markdown",
   "id": "9e5268dd",
   "metadata": {},
   "source": [
    "# • 14.Take a sample of ten phishing e-mails (any text file) and find most common\n"
   ]
  },
  {
   "cell_type": "code",
   "execution_count": null,
   "id": "9e830243",
   "metadata": {},
   "outputs": [],
   "source": []
  },
  {
   "cell_type": "markdown",
   "id": "5c2839b4",
   "metadata": {},
   "source": [
    "# • 15.Read a text file line by line and display each word separated by a #\n"
   ]
  },
  {
   "cell_type": "code",
   "execution_count": null,
   "id": "83e1058a",
   "metadata": {},
   "outputs": [],
   "source": []
  }
 ],
 "metadata": {
  "kernelspec": {
   "display_name": "Python 3 (ipykernel)",
   "language": "python",
   "name": "python3"
  },
  "language_info": {
   "codemirror_mode": {
    "name": "ipython",
    "version": 3
   },
   "file_extension": ".py",
   "mimetype": "text/x-python",
   "name": "python",
   "nbconvert_exporter": "python",
   "pygments_lexer": "ipython3",
   "version": "3.9.7"
  }
 },
 "nbformat": 4,
 "nbformat_minor": 5
}
